{
 "cells": [
  {
   "cell_type": "code",
   "execution_count": 1,
   "metadata": {},
   "outputs": [],
   "source": [
    "import requests\n",
    "from bs4 import BeautifulSoup\n",
    "import logging\n",
    "import json\n",
    "from time import sleep"
   ]
  },
  {
   "cell_type": "code",
   "execution_count": 2,
   "metadata": {},
   "outputs": [],
   "source": [
    "BASE_URL           = \"https://sandiego.nextrequest.com\"\n",
    "REQUESTS_TABLE_URL = \"https://sandiego.nextrequest.com/requests?requests_smart_listing[page]=\"\n",
    "REQUEST_PAGE_URL   = \"https://sandiego.nextrequest.com/requests\"\n",
    "PAGES_COUNT        = 682 # going past the last page just forwards back to the last one\n",
    "SUCCESS_CODE       = 200"
   ]
  },
  {
   "cell_type": "markdown",
   "metadata": {},
   "source": [
    "## Test Code Below\n",
    "\n",
    "This pull was last run at 2p.m. Monday November 25, 2019. Around 17,000 public records request IDs acquired."
   ]
  },
  {
   "cell_type": "code",
   "execution_count": 7,
   "metadata": {},
   "outputs": [
    {
     "name": "stdout",
     "output_type": "stream",
     "text": [
      "100 PAGES COMPLETED\n",
      "200 PAGES COMPLETED\n",
      "300 PAGES COMPLETED\n",
      "400 PAGES COMPLETED\n",
      "500 PAGES COMPLETED\n",
      "600 PAGES COMPLETED\n"
     ]
    }
   ],
   "source": [
    "pra_ids = []\n",
    "for i in range(1,PAGES_COUNT):\n",
    "    page_request = requests.get(REQUESTS_TABLE_URL + str(i))\n",
    "    \n",
    "    if page_request.status_code != SUCCESS_CODE:\n",
    "        logging.warning(\"FAILED CODE \" + str(page_request.status_code) + \"FOR PAGE \" + REQUESTS_TABLE_URL + str(i))\n",
    "        \n",
    "    if (i % 100 == 0):\n",
    "        print(str(i) + \" PAGES COMPLETED\")\n",
    "        #logging.info()\n",
    "        \n",
    "    page_text = BeautifulSoup(page_request.text)\n",
    "\n",
    "    request_table = page_text.find_all(\"table\", class_=\"request_table\")[0]\n",
    "    \n",
    "    for row in request_table.tbody.findAll('tr'):\n",
    "        pra_ids.append(row.findAll('td')[0].a.get('href'))"
   ]
  },
  {
   "cell_type": "code",
   "execution_count": 13,
   "metadata": {},
   "outputs": [],
   "source": [
    "page_request = requests.get(REQUESTS_TABLE_URL + str(680))\n",
    "\n",
    "if page_request.status_code != SUCCESS_CODE:\n",
    "    logging.warning(\"FAILED CODE \" + str(page_request.status_code) + \"FOR PAGE \" + REQUESTS_TABLE_URL + str(i))\n",
    "    \n",
    "if (i % 100 == 0):\n",
    "    print(str(i) + \" PAGES COMPLETED\")\n",
    "    #logging.info()\n",
    "    \n",
    "page_text = BeautifulSoup(page_request.text)\n",
    "\n",
    "request_table = page_text.find_all(\"table\", class_=\"request_table\")[0]\n",
    "\n",
    "for row in request_table.tbody.findAll('tr'):\n",
    "    pra_ids.append(row.findAll('td')[0].a.get('href'))"
   ]
  },
  {
   "cell_type": "code",
   "execution_count": 14,
   "metadata": {},
   "outputs": [
    {
     "data": {
      "text/plain": [
       "17006"
      ]
     },
     "execution_count": 14,
     "metadata": {},
     "output_type": "execute_result"
    }
   ],
   "source": [
    "len(pra_ids)"
   ]
  },
  {
   "cell_type": "code",
   "execution_count": 17,
   "metadata": {},
   "outputs": [],
   "source": [
    "with open('pra_href_scrape.txt', 'w') as outfile:\n",
    "    json.dump(pra_ids, outfile)"
   ]
  },
  {
   "cell_type": "markdown",
   "metadata": {},
   "source": [
    "## Scrape Request Page"
   ]
  },
  {
   "cell_type": "code",
   "execution_count": 11,
   "metadata": {},
   "outputs": [],
   "source": [
    "# READ IN THE REQUEST IDs\n",
    "with open('pra_href_scrape.txt') as json_file:\n",
    "    pra_ids = json.load(json_file)"
   ]
  },
  {
   "cell_type": "code",
   "execution_count": 9,
   "metadata": {},
   "outputs": [],
   "source": [
    "r_page = BeautifulSoup(requests.get(REQUEST_PAGE_URL + '/19-5607').text)"
   ]
  },
  {
   "cell_type": "code",
   "execution_count": 23,
   "metadata": {},
   "outputs": [],
   "source": [
    "def clean_empty_space(string):\n",
    "    return \" \".join(string.split())"
   ]
  },
  {
   "cell_type": "code",
   "execution_count": 27,
   "metadata": {},
   "outputs": [],
   "source": [
    "def get_rpage_data(pra_link):\n",
    "    r_data_i = {}\n",
    "    \n",
    "    r_page = BeautifulSoup(requests.get(BASE_URL + pra_link).text)\n",
    "    \n",
    "    \n",
    "    r_id = pra_link.split(\"/\")[-1]\n",
    "    \n",
    "    r_text = r_page.find(\"div\", {\"id\": \"request-text\"}).p.get_text() # get request text\n",
    "\n",
    "    r_date = r_page.findAll(\"p\", {\"class\": \"request_date\"})[0].get_text() # get the submission date\n",
    "    r_date = r_date.split()\n",
    "    r_channel = r_date[-1]\n",
    "    r_date = \" \".join(r_date[:3])\n",
    "    \n",
    "    r_department = r_page.findAll(\"p\", {\"class\": \"current-department\"})[0].get_text() # get the respective department\n",
    "    r_department = clean_empty_space(r_department)\n",
    "    r_contact = ' '.join(r_page.findAll(\"div\", {\"class\": \"staff-details\"})[0].text.split(\"Contact\",1)[1].split()) # get the request contact\n",
    "    \n",
    "    r_events = r_page.findAll(\"div\", {\"class\": \"generic-event\"}) # get each public event\n",
    "    \n",
    "    for event in r_events:\n",
    "        event_title = event.findAll(\"div\", {\"class\": \"event-title\"})[0].text\n",
    "        event_text  = event.findAll(\"div\", {\"class\": \"event-item\"})[0].text\n",
    "        event_title = ' '.join(event_title.split())\n",
    "        event_text  = ' '.join(event_text.split())\n",
    "        if (event_title == \"Request Closed\"):\n",
    "            r_data_i[\"Close_Date\"] = event_title + \" \" + \" \".join(event.findAll(\"div\")[-1].get_text().split()[:3]).replace(\",\",\"\")\n",
    "        if(~(event_title in r_data_i.keys())):\n",
    "            r_data_i[event_title] = event_text\n",
    "        else:\n",
    "            r_data_i[event_title] = r_data_i[event_title] + \"; \" + event_text\n",
    "    \n",
    "    row = [r_id, r_date, r_channel, r_department, r_contact, r_data_i]\n",
    "    sleep(1)\n",
    "    return row"
   ]
  },
  {
   "cell_type": "code",
   "execution_count": 28,
   "metadata": {},
   "outputs": [
    {
     "data": {
      "text/plain": [
       "[['19-5614',\n",
       "  'November 21, 2019',\n",
       "  'web',\n",
       "  'Fire-Rescue',\n",
       "  'Angela Laurita',\n",
       "  {'Request Published Public': '',\n",
       "   'Request Closed Public': 'Duplicate request This request was already entered under a different number.',\n",
       "   'Department Assignment Public': 'Fire-Rescue',\n",
       "   'Request Opened Public': 'Request received via web'}],\n",
       " ['19-5607',\n",
       "  'November 21, 2019',\n",
       "  'web',\n",
       "  'Public Records Administration',\n",
       "  'Angela Laurita',\n",
       "  {'Request Published Public': '',\n",
       "   'Request Closed Public': 'No responsive documents The City of San Diego has no responsive documents.',\n",
       "   'Document(s) Released Public': 'https://www.sandiego.gov/sustainability/energy-and-water-efficiency/programs-projects/smart-city',\n",
       "   'Department Assignment Public': 'Public Records Administration',\n",
       "   'Request Opened Public': 'Request received via web'}],\n",
       " ['19-5605',\n",
       "  'November 20, 2019',\n",
       "  'email',\n",
       "  'Code Enforcement',\n",
       "  'Ginger Rodriguez',\n",
       "  {'Request Published Public': '',\n",
       "   'Request Closed Public': '02. Released All responsive documents have been released pursuant to the California Public Records Act.',\n",
       "   'Document(s) Released Public': 'https://aca.accela.com/SANDIEGO/Default.aspx',\n",
       "   'Department Assignment Public': 'Code Enforcement',\n",
       "   'Request Opened Public': 'Request received via email'}],\n",
       " ['19-5603',\n",
       "  'November 21, 2019',\n",
       "  'web',\n",
       "  'Public Records Administration',\n",
       "  'Angela Laurita',\n",
       "  {'Request Published Public': '',\n",
       "   'Request Closed Public': 'Duplicate request This request was already entered under a different number.',\n",
       "   'Department Assignment Public': 'Planning',\n",
       "   'Request Opened Public': 'Request received via web'}],\n",
       " ['19-5595',\n",
       "  'November 20, 2019',\n",
       "  'web',\n",
       "  'Police',\n",
       "  'Angela Laurita',\n",
       "  {'Request Published Public': '',\n",
       "   'Request Closed Hide Public': '02a. Released - Redacted All responsive documents have been released except for portions redacted pursuant to: [Law enforcement investigation] Government Code section §6254(f) [records of complaints to, or investigations conducted by, or records of intelligence information or security procedures of, ….any state or local police agency... are exempt from disclosure]',\n",
       "   'Document(s) Released Public': 'PRA 19 5595 CAD E19110026985_Redacted.pdf',\n",
       "   'Department Assignment Public': 'Police',\n",
       "   'Request Opened Public': 'Request received via web'}],\n",
       " ['19-5594',\n",
       "  'November 20, 2019',\n",
       "  'web',\n",
       "  'Public Utilities',\n",
       "  'Lori Hernandez',\n",
       "  {'Request Published Public': '',\n",
       "   'Request Closed Public': 'No responsive documents The City of San Diego has no responsive documents.',\n",
       "   'Department Assignment Public': 'Added: Public Utilities.',\n",
       "   'Request Opened Public': 'Request received via web'}],\n",
       " ['19-5592',\n",
       "  'November 20, 2019',\n",
       "  'web',\n",
       "  'Police',\n",
       "  'Angela Laurita',\n",
       "  {'Request Published Public': '',\n",
       "   'Request Closed Hide Public': '02a. Released - Redacted All responsive documents have been released except for portions redacted pursuant to: [Law enforcement investigation] Government Code section §6254(f) [records of complaints to, or investigations conducted by, or records of intelligence information or security procedures of, ….any state or local police agency... are exempt from disclosure]',\n",
       "   'Document(s) Released Public': 'PRA 19 5592 CAD E18040036571_Redacted.pdf',\n",
       "   'Department Assignment Public': 'Police',\n",
       "   'Request Opened Public': 'Request received via web'}],\n",
       " ['19-5568',\n",
       "  'November 19, 2019',\n",
       "  'web',\n",
       "  'Police',\n",
       "  'Angela Laurita',\n",
       "  {'Request Published Public': '',\n",
       "   'Request Closed Hide Public': '02a. Released - Redacted All responsive documents have been released except for portions redacted pursuant to: [Law enforcement investigation] Government Code section §6254(f) [records of complaints to, or investigations conducted by, or records of intelligence information or security procedures of, ….any state or local police agency... are exempt from disclosure]',\n",
       "   'Document(s) Released Public': 'PRA 19 5568 CAD E19100026175_Redacted.pdfPRA 19 5568 XRef CAD E19100026200_Redacted.pdf',\n",
       "   'Department Assignment Public': 'Police',\n",
       "   'Request Opened Public': 'Request received via web'}],\n",
       " ['19-5564',\n",
       "  'November 19, 2019',\n",
       "  'web',\n",
       "  'Police, Public Records Administration',\n",
       "  'Angela Laurita',\n",
       "  {'Request Published Public': '',\n",
       "   'Request Closed Hide Public': '01a. Not Released - Withheld Any documents responsive to the request are being withheld pursuant to: [Law enforcement investigation] Government Code section §6254(f) [records of complaints to, or investigations conducted by, or records of intelligence information or security procedures of, ….any state or local police agency... are exempt from disclosure]',\n",
       "   'Department Assignment Public': 'Added: Police, Public Records Administration .',\n",
       "   'Request Opened Public': 'Request received via web'}],\n",
       " ['19-5563',\n",
       "  'November 19, 2019',\n",
       "  'web',\n",
       "  'Public Records Administration',\n",
       "  'Angela Laurita',\n",
       "  {'Request Published Public': '',\n",
       "   'Request Closed Public': 'Referred to another agency The City of San Diego does not maintain the records requested. The requestor was referred to another agency.',\n",
       "   'Department Assignment Public': 'City Attorney',\n",
       "   'Request Opened Public': 'Request received via web'}]]"
      ]
     },
     "execution_count": 28,
     "metadata": {},
     "output_type": "execute_result"
    }
   ],
   "source": [
    "[get_rpage_data(link) for link in pra_ids[:10]]"
   ]
  },
  {
   "cell_type": "code",
   "execution_count": null,
   "metadata": {},
   "outputs": [],
   "source": []
  }
 ],
 "metadata": {
  "kernelspec": {
   "display_name": "Python 3",
   "language": "python",
   "name": "python3"
  },
  "language_info": {
   "codemirror_mode": {
    "name": "ipython",
    "version": 3
   },
   "file_extension": ".py",
   "mimetype": "text/x-python",
   "name": "python",
   "nbconvert_exporter": "python",
   "pygments_lexer": "ipython3",
   "version": "3.6.9"
  }
 },
 "nbformat": 4,
 "nbformat_minor": 4
}
